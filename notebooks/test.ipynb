{
 "cells": [
  {
   "cell_type": "markdown",
   "id": "70a5983c",
   "metadata": {},
   "source": [
    "In this notebook, we will build a 3D map of a scene from a small set of images and refine it with the featuremetric optimization. We then localize an image downloaded from the Internet and show the effect of the refinement."
   ]
  },
  {
   "cell_type": "markdown",
   "id": "bf7c6f36",
   "metadata": {},
   "source": [
    "# Setup\n",
    "We start by defining some output paths: where the intermediate files will be stored."
   ]
  },
  {
   "cell_type": "code",
   "execution_count": null,
   "id": "379aa91d",
   "metadata": {},
   "outputs": [],
   "source": [
    "%load_ext autoreload\n",
    "%autoreload 2\n",
    "import tqdm, tqdm.notebook\n",
    "tqdm.tqdm = tqdm.notebook.tqdm  # notebook-friendly progress bars\n",
    "import os\n",
    "import time\n",
    "import sys\n",
    "from hloc import extract_features, match_features, reconstruction, pairs_from_exhaustive, visualization\n",
    "from hloc.visualization import plot_images, read_image\n",
    "from hloc.utils.viz_3d import init_figure, plot_points, plot_reconstruction, plot_camera_colmap\n",
    "from pixsfm.util.visualize import init_image, plot_points2D\n",
    "from pixsfm.refine_hloc import PixSfM\n",
    "from pixsfm import ostream_redirect\n",
    "from PIL import Image, ImageDraw\n",
    "import pycolmap\n",
    "from pathlib import Path\n",
    "import numpy as np\n",
    "#import visualize_model\n",
    "# redirect the C++ outputs to notebook cells\n",
    "cpp_out = ostream_redirect(stderr=True, stdout=True)\n",
    "cpp_out.__enter__()"
   ]
  },
  {
   "cell_type": "code",
   "execution_count": null,
   "id": "8b577c8a-72ac-48da-aac2-c4c2bd22c9f2",
   "metadata": {},
   "outputs": [],
   "source": [
    "import torch \n",
    "print(torch.__version__)\n",
    "print(torch.cuda.get_arch_list())"
   ]
  },
  {
   "cell_type": "code",
   "execution_count": null,
   "id": "bbaa348d",
   "metadata": {},
   "outputs": [],
   "source": [
    "colors = {\n",
    "    \"red\": np.array([255, 0, 0]),\n",
    "    \"green\": np.array([0, 255, 0]),\n",
    "    \"blue\": np.array([0, 0, 255]),\n",
    "    \"yellow\": np.array([255, 255, 0]),\n",
    "    \"cyan\": np.array([0, 255, 255]),\n",
    "    \"magenta\": np.array([255, 0, 255]),\n",
    "    \"white\": np.array([255, 255, 255]),\n",
    "    \"black\": np.array([0, 0, 0]),\n",
    "    \"orange\": np.array([255, 165, 0]),\n",
    "    \"purple\": np.array([128, 0, 128]),\n",
    "    \"brown\": np.array([165, 42, 42]),\n",
    "    \"gray\": np.array([128, 128, 128]),\n",
    "    \"pink\": np.array([255, 192, 203]),\n",
    "    \"lime\": np.array([0, 255, 0]),\n",
    "    \"indigo\": np.array([75, 0, 130])\n",
    "}"
   ]
  },
  {
   "cell_type": "markdown",
   "id": "5687b54f",
   "metadata": {},
   "source": [
    "#### SVO Pointcloud visualization"
   ]
  },
  {
   "cell_type": "code",
   "execution_count": null,
   "id": "394f28e5",
   "metadata": {},
   "outputs": [],
   "source": [
    "from plyfile import PlyData\n",
    "svo_data = PlyData.read('/home/skumar/benchmark_pixSFM/ply/svo_pink.ply')\n",
    "v1 = svo_data['vertex'].data\n",
    "p1 = np.vstack([v1['x'], v1['y'], v1['z']]).T"
   ]
  },
  {
   "cell_type": "code",
   "execution_count": null,
   "id": "20c80137",
   "metadata": {},
   "outputs": [],
   "source": [
    "import matplotlib.pyplot as plt\n",
    "\n",
    "# Extract the z values\n",
    "z_values = v1['z']\n",
    "\n",
    "# Create a histogram\n",
    "plt.hist(z_values, bins=50, color='blue', alpha=0.7)\n",
    "plt.title('Distribution of Z values in svo_data')\n",
    "plt.xlabel('Z value')\n",
    "plt.ylabel('Frequency')\n",
    "\n",
    "plt.savefig('z_values_distribution.png')\n",
    "\n",
    "# Show the plot\n",
    "plt.show()"
   ]
  },
  {
   "cell_type": "code",
   "execution_count": null,
   "id": "392c1a6f",
   "metadata": {},
   "outputs": [],
   "source": []
  },
  {
   "cell_type": "code",
   "execution_count": null,
   "id": "9ddb38d3",
   "metadata": {},
   "outputs": [],
   "source": [
    "def export_colored_model(input_path, color, output_path): \n",
    "    input_pcl_path = Path(\"/home/skumar/benchmark_pixSFM/ply/sfm_in_camera_frame.ply\")\n",
    "    input_model = pycolmap.Reconstruction()\n",
    "    input_model.import_PLY(input_pcl_path.as_posix())\n",
    "    output_model = pycolmap.Reconstruction()\n",
    "    custom_color = colors[\"yellow\"]\n",
    "    for id, point in input_model.points3D.items():\n",
    "            output_model.add_point3D(xyz = point.xyz, track = pycolmap.Track(), color = custom_color)\n",
    "    output_model.export_PLY(\"ply/sfm_yellow.ply\")\n",
    "    "
   ]
  },
  {
   "cell_type": "markdown",
   "id": "d80e98f2",
   "metadata": {},
   "source": [
    "#### SFM PCL TO CAMERA FRAME"
   ]
  },
  {
   "cell_type": "code",
   "execution_count": null,
   "id": "ab294072",
   "metadata": {},
   "outputs": [],
   "source": [
    "images = Path('pixsfm_dataset/')\n",
    "outputs = Path('pixsfm_outputs/')\n",
    "#!rm -rf $outputs\n",
    "sfm_pairs = outputs / 'pairs-sfm.txt'\n",
    "loc_pairs = outputs / 'pairs-loc.txt'\n",
    "features = outputs / 'features.h5'\n",
    "matches = outputs / 'matches.h5'\n",
    "raw_dir = outputs / \"raw\"\n",
    "ref_dir_locked = outputs / \"ref_locked\""
   ]
  },
  {
   "cell_type": "code",
   "execution_count": null,
   "id": "fc42862b",
   "metadata": {},
   "outputs": [],
   "source": [
    "sfm_input_path = Path(\"dense_reconstruction/output/\")"
   ]
  },
  {
   "cell_type": "code",
   "execution_count": null,
   "id": "4b03ed49",
   "metadata": {},
   "outputs": [],
   "source": [
    "os.listdir(sfm_input_path)"
   ]
  },
  {
   "cell_type": "code",
   "execution_count": null,
   "id": "a4a3a413",
   "metadata": {},
   "outputs": [],
   "source": [
    "sfm_model = pycolmap.Reconstruction()\n",
    "sfm_in\n",
    "sfm_model.read_binary(sfm_input_path.as_posix())"
   ]
  },
  {
   "cell_type": "code",
   "execution_count": null,
   "id": "33ad65d6",
   "metadata": {},
   "outputs": [],
   "source": [
    "sfm_model.summary()"
   ]
  },
  {
   "cell_type": "code",
   "execution_count": null,
   "id": "0af00e75",
   "metadata": {},
   "outputs": [],
   "source": [
    "sys.path.append(\"/home/skumar/colmap/scripts/python\")\n",
    "from read_write_model import read_images_binary"
   ]
  },
  {
   "cell_type": "code",
   "execution_count": null,
   "id": "2dea5c8a",
   "metadata": {},
   "outputs": [],
   "source": [
    "type(sfm_model.images)"
   ]
  },
  {
   "cell_type": "code",
   "execution_count": null,
   "id": "bb737df3",
   "metadata": {},
   "outputs": [],
   "source": [
    "# for image_id, image in sfm_model.images.items():\n",
    "#     print(f\"{image_id} {image.name}\")"
   ]
  },
  {
   "cell_type": "code",
   "execution_count": null,
   "id": "1c56623d",
   "metadata": {},
   "outputs": [],
   "source": [
    "target_left_frame_id = 13\n",
    "target_right_frame_id = 53\n",
    "#print(f\"{sfm_images_dict[target_left_frame_id].name} {sfm_images_dict[target_right_frame_id].name}\")"
   ]
  },
  {
   "cell_type": "code",
   "execution_count": null,
   "id": "42040d27",
   "metadata": {},
   "outputs": [],
   "source": [
    "import numpy as np\n",
    "\n",
    "fx = 1093.2768\n",
    "fy = 1093.2768\n",
    "cx = 964.989\n",
    "cy = 569.276\n",
    "#A = np.array([[fx,0 , cx], [0, fy, cy], [0 , 0, 1]]).astype(np.float64)\n",
    "\n",
    "def get_camera_matrix(fx, fy, cx, cy):\n",
    "    return np.array([[fx,0 , cx], [0, fy, cy], [0 , 0, 1]]).astype(np.float64)\n",
    "\n",
    "def compute_cam_extrinsics(img):\n",
    "    from read_write_model import qvec2rotmat\n",
    "    R = qvec2rotmat(img.qvec)\n",
    "    t = img.tvec.reshape(3,-1)\n",
    "    R_t = np.concatenate((R,t), axis = 1)\n",
    "    #R_t = np.vstack([np.array([0,0,0,1]), R_t])\n",
    "    return R_t    # 3 * 4\n",
    "\n",
    "def compute_projection_matrix(K, R_t):\n",
    "    return np.dot(K, R_t)    \n"
   ]
  },
  {
   "cell_type": "code",
   "execution_count": null,
   "id": "1f536918",
   "metadata": {},
   "outputs": [],
   "source": [
    "left_img = sfm_model.images[13]\n",
    "K = get_camera_matrix(fx,fy,cx,cy)\n",
    "left_Rt = compute_cam_extrinsics(left_img)\n",
    "P = compute_projection_matrix(K, left_Rt)"
   ]
  },
  {
   "cell_type": "code",
   "execution_count": null,
   "id": "2e688481",
   "metadata": {},
   "outputs": [],
   "source": [
    "print(f\"{left_Rt}\")"
   ]
  },
  {
   "cell_type": "markdown",
   "id": "e8078aac",
   "metadata": {},
   "source": [
    "### Transfoming points to left camera frame"
   ]
  },
  {
   "cell_type": "code",
   "execution_count": null,
   "id": "ed31e756",
   "metadata": {},
   "outputs": [],
   "source": [
    "from read_write_model import read_points3D_binary\n",
    "sfm_points_path = sfm_input_path / \"points3D.bin\"\n",
    "sfm_points_dict = read_points3D_binary(sfm_points_path)"
   ]
  },
  {
   "cell_type": "code",
   "execution_count": null,
   "id": "3648c89d",
   "metadata": {},
   "outputs": [],
   "source": [
    "X = np.array([value.xyz for value in sfm_points_dict.values()])\n",
    "ones = np.ones((X.shape[0], 1))\n",
    "X_homo = np.hstack((X, ones)) #homogeneous co-ordinates"
   ]
  },
  {
   "cell_type": "code",
   "execution_count": null,
   "id": "03620104",
   "metadata": {},
   "outputs": [],
   "source": [
    "X_homo.shape"
   ]
  },
  {
   "cell_type": "code",
   "execution_count": null,
   "id": "d5a67571",
   "metadata": {},
   "outputs": [],
   "source": [
    "print(X_homo[0])"
   ]
  },
  {
   "cell_type": "code",
   "execution_count": null,
   "id": "a5482b2b",
   "metadata": {},
   "outputs": [],
   "source": [
    "left_Rt_homo = np.vstack((left_Rt, np.array([0, 0, 0, 1])))\n",
    "print(f\"left_Rt_homo: {left_Rt_homo}\")"
   ]
  },
  {
   "cell_type": "code",
   "execution_count": null,
   "id": "60097a79",
   "metadata": {},
   "outputs": [],
   "source": [
    "X_lc_homo = np.dot(X_homo ,left_Rt_homo) #left camera frame "
   ]
  },
  {
   "cell_type": "code",
   "execution_count": null,
   "id": "3ef55958",
   "metadata": {},
   "outputs": [],
   "source": [
    "print(f\"X_lc_homo.shape: {X_lc_homo.shape}\")"
   ]
  },
  {
   "cell_type": "code",
   "execution_count": null,
   "id": "6e50b67a",
   "metadata": {},
   "outputs": [],
   "source": [
    "print(X_lc_homo[0])"
   ]
  },
  {
   "cell_type": "code",
   "execution_count": null,
   "id": "455f26cc",
   "metadata": {},
   "outputs": [],
   "source": [
    "X_lc =  X_lc_homo[:, :3] / X_lc_homo[:, 3:] #dehomogenizing"
   ]
  },
  {
   "cell_type": "code",
   "execution_count": null,
   "id": "818d0bdc",
   "metadata": {},
   "outputs": [],
   "source": [
    "print(X_lc[0])"
   ]
  },
  {
   "cell_type": "markdown",
   "id": "8619c994",
   "metadata": {},
   "source": [
    "Updating the x,y,z values for the 3D points"
   ]
  },
  {
   "cell_type": "code",
   "execution_count": null,
   "id": "d37ce1b0",
   "metadata": {},
   "outputs": [],
   "source": [
    "sfm_points_dict[12532]"
   ]
  },
  {
   "cell_type": "code",
   "execution_count": null,
   "id": "fb0063e1",
   "metadata": {},
   "outputs": [],
   "source": [
    "import copy\n",
    "sfm_points_dict_ = copy.deepcopy(sfm_points_dict)"
   ]
  },
  {
   "cell_type": "code",
   "execution_count": null,
   "id": "ba02a9f4",
   "metadata": {},
   "outputs": [],
   "source": [
    "type(X_lc[0,:])"
   ]
  },
  {
   "cell_type": "code",
   "execution_count": null,
   "id": "4606f47c",
   "metadata": {},
   "outputs": [],
   "source": [
    "sfm_model_uncolored = pycolmap.Reconstruction()"
   ]
  },
  {
   "cell_type": "code",
   "execution_count": null,
   "id": "e4ca50e4",
   "metadata": {},
   "outputs": [],
   "source": [
    "counter = 0\n",
    "for id, pt in sfm_points_dict_.items():\n",
    "    #point_3d = pycolmap.Point3D()\n",
    "    #point_3d.xyz = pt.xyz\n",
    "    #point_3d.color = pt.rgb\n",
    "    sfm_model_uncolored.add_point3D(xyz = pt.xyz, track = pycolmap.Track(), color = pt.rgb)\n",
    "    "
   ]
  },
  {
   "cell_type": "code",
   "execution_count": null,
   "id": "5d853f1d",
   "metadata": {},
   "outputs": [],
   "source": [
    "len(sfm_model_uncolored.points3D.values())"
   ]
  },
  {
   "cell_type": "code",
   "execution_count": null,
   "id": "36c9972b",
   "metadata": {},
   "outputs": [],
   "source": [
    "sfm_model_uncolored.export_PLY(\"ply/sfm_uncolored.ply\")"
   ]
  },
  {
   "cell_type": "markdown",
   "id": "b0124cbe",
   "metadata": {},
   "source": [
    "### Custom color for SFM model"
   ]
  },
  {
   "cell_type": "code",
   "execution_count": null,
   "id": "17e54ec2",
   "metadata": {},
   "outputs": [],
   "source": [
    "sfm_model_custom_colored = pycolmap.Reconstruction()"
   ]
  },
  {
   "cell_type": "code",
   "execution_count": null,
   "id": "253cb854",
   "metadata": {},
   "outputs": [],
   "source": [
    "for id, pt in sfm_points_dict_.items():\n",
    "    #print(pt)\n",
    "    sfm_model_custom_colored.add_point3D(xyz = pt.xyz, track = pycolmap.Track(), color = np.array([255,255,0]))\n",
    "    #break"
   ]
  },
  {
   "cell_type": "code",
   "execution_count": null,
   "id": "8acb2276",
   "metadata": {},
   "outputs": [],
   "source": [
    "sfm_model_custom_colored.export_PLY(\"ply/sfm_yellow.ply\")"
   ]
  },
  {
   "cell_type": "markdown",
   "id": "00bef5ab",
   "metadata": {},
   "source": [
    "### Custom color for SVO model"
   ]
  },
  {
   "cell_type": "code",
   "execution_count": null,
   "id": "11eecb1e",
   "metadata": {},
   "outputs": [],
   "source": [
    "svo_input_path = Path(\"svo_output/frame_13/pointcloud/pointcloud.ply\")\n",
    "svo_model = pycolmap.Reconstruction()\n",
    "svo_model.import_PLY(svo_input_path.as_posix())"
   ]
  },
  {
   "cell_type": "code",
   "execution_count": null,
   "id": "975ec635",
   "metadata": {},
   "outputs": [],
   "source": [
    "svo_model.summary()"
   ]
  },
  {
   "cell_type": "code",
   "execution_count": null,
   "id": "f8bfb0bc",
   "metadata": {},
   "outputs": [],
   "source": [
    "svo_points = svo_model.points3D"
   ]
  },
  {
   "cell_type": "code",
   "execution_count": null,
   "id": "384d1dce",
   "metadata": {},
   "outputs": [],
   "source": [
    "a = list(svo_points.keys())"
   ]
  },
  {
   "cell_type": "code",
   "execution_count": null,
   "id": "db50704a",
   "metadata": {},
   "outputs": [],
   "source": [
    "a[1]"
   ]
  },
  {
   "cell_type": "code",
   "execution_count": null,
   "id": "c9a9c201",
   "metadata": {},
   "outputs": [],
   "source": [
    "svo_points[1929853].color"
   ]
  },
  {
   "cell_type": "code",
   "execution_count": null,
   "id": "020a8ca5",
   "metadata": {},
   "outputs": [],
   "source": [
    "colors = {\n",
    "    \"red\": np.array([255, 0, 0]),\n",
    "    \"green\": np.array([0, 255, 0]),\n",
    "    \"blue\": np.array([0, 0, 255]),\n",
    "    \"yellow\": np.array([255, 255, 0]),\n",
    "    \"cyan\": np.array([0, 255, 255]),\n",
    "    \"magenta\": np.array([255, 0, 255]),\n",
    "    \"white\": np.array([255, 255, 255]),\n",
    "    \"black\": np.array([0, 0, 0]),\n",
    "    \"orange\": np.array([255, 165, 0]),\n",
    "    \"purple\": np.array([128, 0, 128]),\n",
    "    \"brown\": np.array([165, 42, 42]),\n",
    "    \"gray\": np.array([128, 128, 128]),\n",
    "    \"pink\": np.array([255, 192, 203]),\n",
    "    \"lime\": np.array([0, 255, 0]),\n",
    "    \"indigo\": np.array([75, 0, 130])\n",
    "}"
   ]
  },
  {
   "cell_type": "code",
   "execution_count": null,
   "id": "1fc8d7bd",
   "metadata": {},
   "outputs": [],
   "source": [
    "svo_custom_color_model = pycolmap.Reconstruction()"
   ]
  },
  {
   "cell_type": "code",
   "execution_count": null,
   "id": "3c77c203",
   "metadata": {},
   "outputs": [],
   "source": [
    "custom_color = colors[\"pink\"]\n",
    "for id, point in svo_model.points3D.items():\n",
    "        svo_custom_color_model.add_point3D(xyz = point.xyz, track = pycolmap.Track(), color = custom_color)\n",
    "    "
   ]
  },
  {
   "cell_type": "code",
   "execution_count": null,
   "id": "5ae106f4",
   "metadata": {},
   "outputs": [],
   "source": [
    "svo_custom_color_model.export_PLY(\"ply/svo_pink.ply\")"
   ]
  },
  {
   "cell_type": "code",
   "execution_count": null,
   "id": "dd39f86e",
   "metadata": {},
   "outputs": [],
   "source": []
  },
  {
   "cell_type": "code",
   "execution_count": null,
   "id": "d49960bf",
   "metadata": {},
   "outputs": [],
   "source": [
    "def colorize_pointcloud(input_pcl_path, color):\n",
    "    input_pcl = pycolmap.Reconstruction()\n",
    "    input_pcl.import_PLY(input_pcl_path.as_posix())\n",
    "    input_pcl = copy.deepcopy(sfm_points_dict)"
   ]
  }
 ],
 "metadata": {
  "kernelspec": {
   "display_name": "Python 3 (ipykernel)",
   "language": "python",
   "name": "python3"
  },
  "language_info": {
   "codemirror_mode": {
    "name": "ipython",
    "version": 3
   },
   "file_extension": ".py",
   "mimetype": "text/x-python",
   "name": "python",
   "nbconvert_exporter": "python",
   "pygments_lexer": "ipython3",
   "version": "3.8.10"
  }
 },
 "nbformat": 4,
 "nbformat_minor": 5
}
