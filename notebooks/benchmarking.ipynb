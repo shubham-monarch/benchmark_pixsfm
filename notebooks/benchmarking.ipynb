{
 "cells": [
  {
   "cell_type": "markdown",
   "id": "70a5983c",
   "metadata": {},
   "source": [
    "In this notebook, we will build a 3D map of a scene from a small set of images and refine it with the featuremetric optimization. We then localize an image downloaded from the Internet and show the effect of the refinement."
   ]
  },
  {
   "cell_type": "markdown",
   "id": "bf7c6f36",
   "metadata": {},
   "source": [
    "# Setup\n",
    "We start by defining some output paths: where the intermediate files will be stored."
   ]
  },
  {
   "cell_type": "code",
   "execution_count": 1,
   "id": "379aa91d",
   "metadata": {},
   "outputs": [],
   "source": [
    "%load_ext autoreload\n",
    "%autoreload 2\n",
    "import tqdm, tqdm.notebook\n",
    "tqdm.tqdm = tqdm.notebook.tqdm  # notebook-friendly progress bars\n",
    "import os\n",
    "import time\n",
    "import sys\n",
    "from hloc import extract_features, match_features, reconstruction, pairs_from_exhaustive, visualization\n",
    "from hloc.visualization import plot_images, read_image\n",
    "from hloc.utils.viz_3d import init_figure, plot_points, plot_reconstruction, plot_camera_colmap\n",
    "from pixsfm.util.visualize import init_image, plot_points2D\n",
    "from pixsfm.refine_hloc import PixSfM\n",
    "from pixsfm import ostream_redirect\n",
    "from PIL import Image, ImageDraw\n",
    "import pycolmap\n",
    "from pathlib import Path\n",
    "import numpy as np\n",
    "#import visualize_model\n",
    "# redirect the C++ outputs to notebook cells\n",
    "cpp_out = ostream_redirect(stderr=True, stdout=True)\n",
    "cpp_out.__enter__()"
   ]
  },
  {
   "cell_type": "code",
   "execution_count": 2,
   "id": "8b577c8a-72ac-48da-aac2-c4c2bd22c9f2",
   "metadata": {},
   "outputs": [
    {
     "name": "stdout",
     "output_type": "stream",
     "text": [
      "1.9.1+cu111\n",
      "['sm_37', 'sm_50', 'sm_60', 'sm_70', 'sm_75', 'sm_80', 'sm_86']\n"
     ]
    }
   ],
   "source": [
    "import torch \n",
    "print(torch.__version__)\n",
    "print(torch.cuda.get_arch_list())"
   ]
  },
  {
   "cell_type": "markdown",
   "id": "d80e98f2",
   "metadata": {},
   "source": [
    "### Helper Functions"
   ]
  },
  {
   "cell_type": "code",
   "execution_count": 3,
   "id": "6b4fe9e8",
   "metadata": {},
   "outputs": [],
   "source": [
    "'''\n",
    "colors the PLY file at the input path\n",
    "with the provided custom color\n",
    "output location => ply/output_ply_name\n",
    "'''\n",
    "def colorize_pointcloud(input_ply_path, color, output_path):\n",
    "    ply_file_path = Path(input_ply_path)\n",
    "        \n",
    "    if ply_file_path.suffix != '.ply':\n",
    "        raise ValueError(f\"The file at {ply_file_path} is not a .PLY file.\")\n",
    "    \n",
    "    \n",
    "    model = pycolmap.Reconstruction()\n",
    "    model.import_PLY(ply_file_path.as_posix())\n",
    "    \n",
    "    \n",
    "    colors_dict = {\n",
    "        \"red\": np.array([255, 0, 0]),\n",
    "        \"green\": np.array([0, 255, 0]),\n",
    "        \"blue\": np.array([0, 0, 255]),\n",
    "        \"yellow\": np.array([255, 255, 0]),\n",
    "        \"cyan\": np.array([0, 255, 255]),\n",
    "        \"magenta\": np.array([255, 0, 255]),\n",
    "        \"white\": np.array([255, 255, 255]),\n",
    "        \"black\": np.array([0, 0, 0]),\n",
    "        \"orange\": np.array([255, 165, 0]),\n",
    "        \"purple\": np.array([128, 0, 128]),\n",
    "        \"brown\": np.array([165, 42, 42]),\n",
    "        \"gray\": np.array([128, 128, 128]),\n",
    "        \"pink\": np.array([255, 192, 203]),\n",
    "        \"lime\": np.array([0, 255, 0]),\n",
    "        \"indigo\": np.array([75, 0, 130])\n",
    "    }\n",
    "    \n",
    "    if color not in colors_dict:\n",
    "        raise ValueError(f\"Color {color} not found in color dictionary\")\n",
    "\n",
    "    \n",
    "    custom_color = colors_dict[color]\n",
    "    \n",
    "    colored_model = pycolmap.Reconstruction()\n",
    "    #for id, point in tqdm(model.points3D.items(), desc=\"Colorizing points\"):\n",
    "    for id, point in model.points3D.items():\n",
    "        colored_model.add_point3D(xyz = point.xyz, track = pycolmap.Track(), color = custom_color)\n",
    "\n",
    "    #output_ply_path =  \"../ply/\" + output_ply_name \n",
    "    #colored_model.export_PLY(output_ply_path.as_posix())\n",
    "    colored_model.export_PLY(output_path)"
   ]
  },
  {
   "cell_type": "code",
   "execution_count": 4,
   "id": "42040d27",
   "metadata": {},
   "outputs": [],
   "source": [
    "import numpy as np\n",
    "\n",
    "fx = 1093.2768\n",
    "fy = 1093.2768\n",
    "cx = 964.989\n",
    "cy = 569.276\n",
    "\n",
    "def get_camera_matrix(fx, fy, cx, cy):\n",
    "    return np.array([[fx,0 , cx], [0, fy, cy], [0 , 0, 1]]).astype(np.float64)\n",
    "\n",
    "def compute_cam_extrinsics(img):\n",
    "    from read_write_model import qvec2rotmat\n",
    "    R = qvec2rotmat(img.qvec)\n",
    "    t = img.tvec.reshape(3,-1)\n",
    "    R_t = np.concatenate((R,t), axis = 1)\n",
    "    #R_t = np.vstack([np.array([0,0,0,1]), R_t])\n",
    "    return R_t    # 3 * 4\n",
    "\n",
    "def compute_projection_matrix(K, R_t):\n",
    "    return np.dot(K, R_t)    \n"
   ]
  },
  {
   "cell_type": "code",
   "execution_count": 57,
   "id": "09e638db",
   "metadata": {},
   "outputs": [],
   "source": [
    "def transform_points_to_camera_frame(camera_rt_homo, points): \n",
    "    X = points\n",
    "    ones = np.ones((X.shape[0], 1))\n",
    "    X_homo = np.hstack((X, ones)) #homogeneous co-ordinates\n",
    "    \n",
    "    #camera_rt_homo = np.vstack((camera_rt, np.array([0, 0, 0, 1])))\n",
    "    \n",
    "    #print(f\"camera_rt.shape: {camera_rt.shape} camera_rt_homo.shape: {camera_rt_homo.shape}\")\n",
    "    print(f\"X.shape: {X.shape} X_homo.shape: {X_homo.shape}\")\n",
    "    \n",
    "    Xc_homo = np.dot(camera_rt_homo ,X_homo.T).T #homogeneous co-ordinates in camera frame \n",
    "    #Xc_homo = np.dot(X_homo ,camera_rt_homo) #homogeneous co-ordinates in camera frame \n",
    "    \n",
    "    print(f\"Xc_homo.shape: {Xc_homo.shape}\")\n",
    "    \n",
    "    #Xc_homo = np.dot(X_homo ,camera_rt_homo) #homogeneous co-ordinates in camera frame \n",
    "    Xc =  Xc_homo[:, :3] / Xc_homo[:, 3:] #dehomogenizing\n",
    "    \n",
    "    return Xc "
   ]
  },
  {
   "cell_type": "code",
   "execution_count": 64,
   "id": "b757eff5",
   "metadata": {},
   "outputs": [],
   "source": [
    "'''test cases for transform_points_to_camera_frame function ''' \n",
    "def test_identity_matrix():\n",
    "    points = np.array([[1, 2, 3], [4, 5, 6]])  # replace with actual points\n",
    "    camera_rt_homo = np.eye(4)  # identity matrix\n",
    "    \n",
    "    transformed_points = transform_points_to_camera_frame(camera_rt_homo,  points)\n",
    "    print(f\"transformed_points\\n: {transformed_points}\")\n",
    "    #passed =  np.allclose(transform_points_to_camera_frame(camera_rt, points), points)\n",
    "    #return (\"pass\" if passed is True else  \"fail\")\n",
    "    \n",
    "def test_custom_transformation_matrix():\n",
    "    points = np.array([[1, 2, 3], [4, 5, 6]])  # points\n",
    "    matrix = np.array([\n",
    "        [1, 0, 0, 0],\n",
    "        [0, 1, 0, -1],\n",
    "        [0, 0, 1, 0],\n",
    "        [0, 0, 0, 1]\n",
    "    ])  # custom transformation matrix\n",
    "    #expected_result = np.array([[2, -1, 3], [6, -4, 6]])  # points after transformation\n",
    "    #assert np.allclose(transform_points_to_camera_frame(points, matrix), expected_result)\n",
    "    points_t = transform_points_to_camera_frame(matrix, points)\n",
    "    print(f\"points_t\\n: {points_t}\")\n"
   ]
  },
  {
   "cell_type": "code",
   "execution_count": 65,
   "id": "f42be6b8",
   "metadata": {},
   "outputs": [
    {
     "name": "stdout",
     "output_type": "stream",
     "text": [
      "X.shape: (2, 3) X_homo.shape: (2, 4)\n",
      "Xc_homo.shape: (2, 4)\n",
      "points_t\n",
      ": [[1. 1. 3.]\n",
      " [4. 4. 6.]]\n"
     ]
    }
   ],
   "source": [
    "(test_custom_transformation_matrix())"
   ]
  },
  {
   "cell_type": "code",
   "execution_count": 54,
   "id": "4c5cf581",
   "metadata": {},
   "outputs": [
    {
     "name": "stdout",
     "output_type": "stream",
     "text": [
      "X.shape: (2, 3) X_homo.shape: (2, 4)\n",
      "Xc_homo.shape: (2, 4)\n",
      "transformed_points\n",
      ": [[1. 2. 3.]\n",
      " [4. 5. 6.]]\n"
     ]
    }
   ],
   "source": [
    "test_identity_matrix()"
   ]
  },
  {
   "cell_type": "code",
   "execution_count": 21,
   "id": "94806c3d",
   "metadata": {},
   "outputs": [],
   "source": [
    "'''\n",
    "camera_rt => target camera extrinsics\n",
    "model_input_path => path to the directory containing images.bin, points3d.bin, cameras.bin\n",
    "'''\n",
    "def transform_points3d_to_camera_frame(input_model, camera_rt):\n",
    "    #from read_write_model import read_points3D_binary\n",
    "    #sfm_points_path = model_input_path / \"points3D.bin\"\n",
    "    #sfm_points_dict = read_points3D_binary(sfm_points_path)\n",
    "    sfm_points_dict = input_model.points3D\n",
    "    X = np.array([value.xyz for value in sfm_points_dict.values()]) #co-ordinates in world frame\n",
    "    ones = np.ones((X.shape[0], 1))\n",
    "    X_homo = np.hstack((X, ones)) #homogeneous co-ordinates\n",
    "    \n",
    "    camera_rt_homo = np.vstack((camera_rt, np.array([0, 0, 0, 1])))\n",
    "    \n",
    "    print(f\"camera_rt.shape: {camera_rt.shape} camera_rt_homo.shape: {camera_rt_homo.shape}\")\n",
    "    print(f\"X.shape: {X.shape} X_homo.shape: {X_homo.shape}\")\n",
    "    \n",
    "    Xc_homo = np.dot(camera_rt_homo ,X_homo.T).T #homogeneous co-ordinates in camera frame \n",
    "    \n",
    "    print(f\"Xc_homo.shape: {Xc_homo.shape}\")\n",
    "    \n",
    "    #Xc_homo = np.dot(X_homo ,camera_rt_homo) #homogeneous co-ordinates in camera frame \n",
    "    Xc =  Xc_homo[:, :3] / Xc_homo[:, 3:] #dehomogenizing\n",
    "    \n",
    "    return Xc"
   ]
  },
  {
   "cell_type": "code",
   "execution_count": 25,
   "id": "fe12925e",
   "metadata": {},
   "outputs": [],
   "source": [
    "'''\n",
    "transforms an input model to the frame of the target camera\n",
    "'''\n",
    "def transform_model_to_camera_frame(input_model:pycolmap.Reconstruction(), camera_rt) -> pycolmap.Reconstruction():\n",
    "    transformed_points3d = transform_points3d_to_camera_frame(input_model, camera_rt)\n",
    "    \n",
    "    output_model = pycolmap.Reconstruction()\n",
    "    counter = 0\n",
    "    for (id, input_pt), new_pt in zip(input_model.points3D.items(), transformed_points3d):\n",
    "        output_model.add_point3D(xyz = new_pt , track = pycolmap.Track(), color = input_pt.color)\n",
    "\n",
    "    return output_model"
   ]
  },
  {
   "cell_type": "code",
   "execution_count": 7,
   "id": "36c9972b",
   "metadata": {},
   "outputs": [],
   "source": [
    "#sfm_model_in_camera_frame.export_PLY(\"../ply/sfm_in_camera_frame.ply\")"
   ]
  },
  {
   "cell_type": "code",
   "execution_count": 8,
   "id": "208c9deb",
   "metadata": {},
   "outputs": [],
   "source": [
    "#colorizing sfm_in_camera_frame pointcloud\n",
    "#\n",
    "#colorize_pointcloud(\"../ply/sfm_in_camera_frame.ply\", \"orange\", \"sfm_in_camera_frame_orange.ply\")"
   ]
  },
  {
   "cell_type": "code",
   "execution_count": 9,
   "id": "2f140ee8",
   "metadata": {},
   "outputs": [],
   "source": [
    "#colorizing svo pointcloud\n",
    "#colorize_pointcloud(\"../svo_output/frame_20/pointcloud/pointcloud.ply\", \"yellow\", \"svo_yellow.ply\")"
   ]
  },
  {
   "cell_type": "markdown",
   "id": "d7ce3978",
   "metadata": {},
   "source": [
    "#### PLY generation"
   ]
  },
  {
   "cell_type": "code",
   "execution_count": 10,
   "id": "b628d3c0",
   "metadata": {},
   "outputs": [],
   "source": [
    "sfm_path = Path(\"dense_reconstruction/output/\")\n",
    "sfm_model = pycolmap.Reconstruction()\n",
    "sfm_model.read_binary(sfm_path.as_posix())"
   ]
  },
  {
   "cell_type": "code",
   "execution_count": 11,
   "id": "67216b41",
   "metadata": {},
   "outputs": [
    {
     "data": {
      "text/plain": [
       "'Reconstruction:\\n\\tnum_reg_images = 80\\n\\tnum_cameras = 2\\n\\tnum_points3D = 2941007\\n\\tnum_observations = 52354\\n\\tmean_track_length = 0.0178014\\n\\tmean_observations_per_image = 654.425\\n\\tmean_reprojection_error = 0'"
      ]
     },
     "execution_count": 11,
     "metadata": {},
     "output_type": "execute_result"
    }
   ],
   "source": [
    "sfm_model.summary()"
   ]
  },
  {
   "cell_type": "code",
   "execution_count": 12,
   "id": "09011acf",
   "metadata": {},
   "outputs": [],
   "source": [
    "sys.path.append(\"/home/skumar/colmap/scripts/python\")\n",
    "from read_write_model import read_images_binary"
   ]
  },
  {
   "cell_type": "code",
   "execution_count": 13,
   "id": "f658a47b",
   "metadata": {},
   "outputs": [],
   "source": [
    "# for image_id, image in sfm_model.images.items():\n",
    "#     print(f\"{image_id} {image.name}\")"
   ]
  },
  {
   "cell_type": "code",
   "execution_count": 14,
   "id": "9e1c1c87",
   "metadata": {},
   "outputs": [],
   "source": [
    "target_frame_id = 13 #left_20"
   ]
  },
  {
   "cell_type": "code",
   "execution_count": 15,
   "id": "2df711b0",
   "metadata": {},
   "outputs": [],
   "source": [
    "left_img = sfm_model.images[13]\n",
    "K = get_camera_matrix(fx,fy,cx,cy)\n",
    "camera_rt = compute_cam_extrinsics(left_img)\n",
    "#P = compute_projection_matrix(K, left_Rt)"
   ]
  },
  {
   "cell_type": "code",
   "execution_count": 16,
   "id": "3f7f781a",
   "metadata": {},
   "outputs": [
    {
     "data": {
      "text/plain": [
       "array([[ 0.99572665, -0.09088052, -0.01640656,  0.02774167],\n",
       "       [ 0.09212914,  0.98981585,  0.10852101,  0.01489788],\n",
       "       [ 0.00637703, -0.10956878,  0.99395876, -0.07664639]])"
      ]
     },
     "execution_count": 16,
     "metadata": {},
     "output_type": "execute_result"
    }
   ],
   "source": [
    "camera_rt"
   ]
  },
  {
   "cell_type": "code",
   "execution_count": 31,
   "id": "3f701bc0",
   "metadata": {},
   "outputs": [
    {
     "data": {
      "text/plain": [
       "(2941007, 3)"
      ]
     },
     "execution_count": 31,
     "metadata": {},
     "output_type": "execute_result"
    }
   ],
   "source": [
    "Xc.shape"
   ]
  },
  {
   "cell_type": "code",
   "execution_count": 28,
   "id": "79d430de",
   "metadata": {},
   "outputs": [
    {
     "data": {
      "text/plain": [
       "pycolmap.MapPoint3DIdPoint3D"
      ]
     },
     "execution_count": 28,
     "metadata": {},
     "output_type": "execute_result"
    }
   ],
   "source": [
    "model = pycolmap.Reconstruction()\n",
    "type(model.points3D)"
   ]
  },
  {
   "cell_type": "code",
   "execution_count": 66,
   "id": "a69499bb",
   "metadata": {},
   "outputs": [
    {
     "name": "stdout",
     "output_type": "stream",
     "text": [
      "camera_rt.shape: (3, 4) camera_rt_homo.shape: (4, 4)\n",
      "X.shape: (2941007, 3) X_homo.shape: (2941007, 4)\n",
      "Xc_homo.shape: (2941007, 4)\n"
     ]
    }
   ],
   "source": [
    "sfm_model_in_camera_frame = transform_model_to_camera_frame(sfm_model, camera_rt)"
   ]
  },
  {
   "cell_type": "code",
   "execution_count": 67,
   "id": "e0261453",
   "metadata": {},
   "outputs": [],
   "source": [
    "sfm_model_in_camera_frame.export_PLY(\"ply/sfm_in_camera_frame.ply\")"
   ]
  },
  {
   "cell_type": "code",
   "execution_count": 68,
   "id": "2a3a47e5",
   "metadata": {},
   "outputs": [],
   "source": [
    "sfm_model.export_PLY(\"ply/sfm.ply\")"
   ]
  },
  {
   "cell_type": "code",
   "execution_count": 48,
   "id": "20b1a27e",
   "metadata": {},
   "outputs": [],
   "source": [
    "colorize_pointcloud(\"ply/sfm_in_camera_frame.ply\", \"orange\", \"ply/sfm_in_camera_frame_orange.ply\")"
   ]
  },
  {
   "cell_type": "code",
   "execution_count": 70,
   "id": "12fa9b06",
   "metadata": {},
   "outputs": [],
   "source": [
    "colorize_pointcloud(\"ply/sfm.ply\", \"cyan\", \"ply/sfm_cyan.ply\")"
   ]
  },
  {
   "cell_type": "code",
   "execution_count": null,
   "id": "e77535a9",
   "metadata": {},
   "outputs": [],
   "source": []
  }
 ],
 "metadata": {
  "kernelspec": {
   "display_name": "Python 3 (ipykernel)",
   "language": "python",
   "name": "python3"
  },
  "language_info": {
   "codemirror_mode": {
    "name": "ipython",
    "version": 3
   },
   "file_extension": ".py",
   "mimetype": "text/x-python",
   "name": "python",
   "nbconvert_exporter": "python",
   "pygments_lexer": "ipython3",
   "version": "3.8.10"
  }
 },
 "nbformat": 4,
 "nbformat_minor": 5
}
