{
 "cells": [
  {
   "cell_type": "markdown",
   "id": "70a5983c",
   "metadata": {},
   "source": [
    "In this notebook, we will build a 3D map of a scene from a small set of images and refine it with the featuremetric optimization. We then localize an image downloaded from the Internet and show the effect of the refinement."
   ]
  },
  {
   "cell_type": "markdown",
   "id": "bf7c6f36",
   "metadata": {},
   "source": [
    "# Setup\n",
    "We start by defining some output paths: where the intermediate files will be stored."
   ]
  },
  {
   "cell_type": "code",
   "execution_count": null,
   "id": "379aa91d",
   "metadata": {},
   "outputs": [],
   "source": [
    "%load_ext autoreload\n",
    "%autoreload 2\n",
    "import tqdm, tqdm.notebook\n",
    "tqdm.tqdm = tqdm.notebook.tqdm  # notebook-friendly progress bars\n",
    "import os\n",
    "import time\n",
    "import sys\n",
    "from hloc import extract_features, match_features, reconstruction, pairs_from_exhaustive, visualization\n",
    "from hloc.visualization import plot_images, read_image\n",
    "from hloc.utils.viz_3d import init_figure, plot_points, plot_reconstruction, plot_camera_colmap\n",
    "from pixsfm.util.visualize import init_image, plot_points2D\n",
    "from pixsfm.refine_hloc import PixSfM\n",
    "from pixsfm import ostream_redirect\n",
    "from PIL import Image, ImageDraw\n",
    "import pycolmap\n",
    "from pathlib import Path\n",
    "#import visualize_model\n",
    "# redirect the C++ outputs to notebook cells\n",
    "cpp_out = ostream_redirect(stderr=True, stdout=True)\n",
    "cpp_out.__enter__()"
   ]
  },
  {
   "cell_type": "code",
   "execution_count": null,
   "id": "8b577c8a-72ac-48da-aac2-c4c2bd22c9f2",
   "metadata": {},
   "outputs": [],
   "source": [
    "import torch \n",
    "print(torch.__version__)\n",
    "print(torch.cuda.get_arch_list())"
   ]
  },
  {
   "cell_type": "code",
   "execution_count": null,
   "id": "ab294072",
   "metadata": {},
   "outputs": [],
   "source": [
    "images = Path('pixsfm_dataset/')\n",
    "outputs = Path('pixsfm_outputs/')\n",
    "#!rm -rf $outputs\n",
    "sfm_pairs = outputs / 'pairs-sfm.txt'\n",
    "loc_pairs = outputs / 'pairs-loc.txt'\n",
    "features = outputs / 'features.h5'\n",
    "matches = outputs / 'matches.h5'\n",
    "raw_dir = outputs / \"raw\"\n",
    "ref_dir_locked = outputs / \"ref_locked\""
   ]
  },
  {
   "cell_type": "code",
   "execution_count": null,
   "id": "fc42862b",
   "metadata": {},
   "outputs": [],
   "source": [
    "sfm_input_path = Path(\"dense_reconstruction/output\")\n",
    "svo_input_path = Path(\"svo_output/frame_20/pointcloud/pointcloud.ply\")"
   ]
  },
  {
   "cell_type": "code",
   "execution_count": null,
   "id": "4b03ed49",
   "metadata": {},
   "outputs": [],
   "source": [
    "os.listdir(sfm_input_path)"
   ]
  },
  {
   "cell_type": "code",
   "execution_count": null,
   "id": "a4a3a413",
   "metadata": {},
   "outputs": [],
   "source": [
    "sfm_model = pycolmap.Reconstruction()\n",
    "sfm_model.read_binary(sfm_input_path.as_posix())"
   ]
  },
  {
   "cell_type": "code",
   "execution_count": null,
   "id": "33ad65d6",
   "metadata": {},
   "outputs": [],
   "source": [
    "sfm_model.summary()"
   ]
  },
  {
   "cell_type": "code",
   "execution_count": null,
   "id": "0af00e75",
   "metadata": {},
   "outputs": [],
   "source": [
    "sys.path.append(\"/home/skumar/colmap/scripts/python\")\n",
    "from read_write_model import read_images_binary\n",
    "sfm_images_path = sfm_input_path / \"images.bin\"\n",
    "sfm_images_dict = read_images_binary(sfm_images_path)\n",
    "for k ,v in sfm_images_dict.items(): \n",
    "    print(f\"{k} => {v.name}\")"
   ]
  },
  {
   "cell_type": "code",
   "execution_count": null,
   "id": "1c56623d",
   "metadata": {},
   "outputs": [],
   "source": [
    "target_left_frame_id = 13\n",
    "target_right_frame_id = 53\n",
    "print(f\"{sfm_images_dict[target_left_frame_id].name} {sfm_images_dict[target_right_frame_id].name}\")"
   ]
  },
  {
   "cell_type": "code",
   "execution_count": null,
   "id": "04a19e93",
   "metadata": {},
   "outputs": [],
   "source": [
    "print(type(sfm_images_dict[13]))"
   ]
  },
  {
   "cell_type": "code",
   "execution_count": null,
   "id": "b0b52315",
   "metadata": {},
   "outputs": [],
   "source": [
    "print(sfm_images_dict[13])"
   ]
  },
  {
   "cell_type": "code",
   "execution_count": null,
   "id": "42040d27",
   "metadata": {},
   "outputs": [],
   "source": [
    "import numpy as np\n",
    "\n",
    "fx = 1093.2768\n",
    "fy = 1093.2768\n",
    "cx = 964.989\n",
    "cy = 569.276\n",
    "#A = np.array([[fx,0 , cx], [0, fy, cy], [0 , 0, 1]]).astype(np.float64)\n",
    "\n",
    "def get_camera_matrix(fx, fy, cx, cy):\n",
    "    return np.array([[fx,0 , cx], [0, fy, cy], [0 , 0, 1]]).astype(np.float64)\n",
    "\n",
    "def compute_cam_extrinsics(img):\n",
    "    from read_write_model import qvec2rotmat\n",
    "    R = qvec2rotmat(img.qvec)\n",
    "    t = img.tvec.reshape(3,-1)\n",
    "    R_t = np.concatenate((R,t), axis = 1)\n",
    "    #R_t = np.vstack([np.array([0,0,0,1]), R_t])\n",
    "    return R_t    #  4 * 4 matrix\n",
    "\n",
    "def compute_projection_matrix(K, R_t):\n",
    "    return np.dot(K, R_t)    \n"
   ]
  },
  {
   "cell_type": "code",
   "execution_count": null,
   "id": "1f536918",
   "metadata": {},
   "outputs": [],
   "source": [
    "left_img = sfm_images_dict[13]\n",
    "left_K = get_camera_matrix(fx,fy,cx,cy)\n",
    "left_Rt = compute_cam_extrinsics(left_img)\n",
    "left_P = compute_projection_matrix(left_K, left_Rt)"
   ]
  },
  {
   "cell_type": "code",
   "execution_count": null,
   "id": "55c30c2d",
   "metadata": {},
   "outputs": [],
   "source": [
    "print(f\"left_K: {left_K}\")\n",
    "print(f\"left_Rt: {left_Rt}\")\n",
    "print(f\"left_P: {left_P}\")"
   ]
  },
  {
   "cell_type": "code",
   "execution_count": null,
   "id": "214a1489",
   "metadata": {},
   "outputs": [],
   "source": [
    "from read_write_model import read_points3D_binary\n",
    "sfm_points_path = sfm_input_path / \"points3D.bin\"\n",
    "sfm_points_dict = read_points3D_binary(sfm_points_path)"
   ]
  },
  {
   "cell_type": "code",
   "execution_count": null,
   "id": "e090c44d",
   "metadata": {},
   "outputs": [],
   "source": [
    "len(sfm_points_dict.keys())"
   ]
  },
  {
   "cell_type": "code",
   "execution_count": null,
   "id": "8a84df59",
   "metadata": {},
   "outputs": [],
   "source": [
    "sfm_points_keys = list(sfm_points_dict.keys())"
   ]
  },
  {
   "cell_type": "code",
   "execution_count": null,
   "id": "e84c71e1",
   "metadata": {},
   "outputs": [],
   "source": [
    "sfm_points_keys[:20]"
   ]
  },
  {
   "cell_type": "code",
   "execution_count": null,
   "id": "56951046",
   "metadata": {},
   "outputs": [],
   "source": [
    "sfm_points_dict[2966350]"
   ]
  },
  {
   "cell_type": "code",
   "execution_count": null,
   "id": "779d0ce6",
   "metadata": {},
   "outputs": [],
   "source": [
    "sfm_X = np.array([value.xyz for value in sfm_points_dict.values()])"
   ]
  },
  {
   "cell_type": "code",
   "execution_count": null,
   "id": "aa1b8e38",
   "metadata": {},
   "outputs": [],
   "source": [
    "sfm_X.shape"
   ]
  },
  {
   "cell_type": "code",
   "execution_count": null,
   "id": "3648c89d",
   "metadata": {},
   "outputs": [],
   "source": [
    "ones = np.ones((sfm_X.shape[0], 1))\n",
    "\n",
    "''' homogenezing sfm_X'''\n",
    "sfm_X = np.hstack((sfm_X, ones))"
   ]
  },
  {
   "cell_type": "code",
   "execution_count": null,
   "id": "03620104",
   "metadata": {},
   "outputs": [],
   "source": [
    "sfm_X.shape"
   ]
  },
  {
   "cell_type": "code",
   "execution_count": null,
   "id": "d5a67571",
   "metadata": {},
   "outputs": [],
   "source": [
    "print(sfm_X[0])"
   ]
  },
  {
   "cell_type": "code",
   "execution_count": null,
   "id": "743a9f6f",
   "metadata": {},
   "outputs": [],
   "source": [
    "def HasPointPositiveDepth(proj_matrix, point3D):\n",
    "    return np.dot(proj_matrix[2], point3D) >= np.finfo(float).eps"
   ]
  },
  {
   "cell_type": "code",
   "execution_count": null,
   "id": "9737d6ef",
   "metadata": {},
   "outputs": [],
   "source": [
    "sfm_x = np.dot(left_P, sfm_X.T).T"
   ]
  },
  {
   "cell_type": "code",
   "execution_count": null,
   "id": "211152bf",
   "metadata": {},
   "outputs": [],
   "source": [
    "sfm_x.shape"
   ]
  },
  {
   "cell_type": "code",
   "execution_count": null,
   "id": "45775bcd",
   "metadata": {},
   "outputs": [],
   "source": [
    "'''\n",
    "Need to filter the points with \n",
    "negative depth i.e.behind the \n",
    "camera plane before projecting\n",
    "'''\n",
    "\n",
    "sfm_x_filtered = sfm_x[sfm_x[:, 2] >= 0]"
   ]
  },
  {
   "cell_type": "code",
   "execution_count": null,
   "id": "3d603cb7",
   "metadata": {},
   "outputs": [],
   "source": [
    "sfm_x_filtered.shape"
   ]
  },
  {
   "cell_type": "code",
   "execution_count": null,
   "id": "aa5fd51d",
   "metadata": {},
   "outputs": [],
   "source": [
    "sfm_x = sfm_x_filtered[:, :2] / sfm_x_filtered[:, 2:]"
   ]
  },
  {
   "cell_type": "code",
   "execution_count": null,
   "id": "881810d5",
   "metadata": {},
   "outputs": [],
   "source": [
    "sfm_x.shape"
   ]
  },
  {
   "cell_type": "code",
   "execution_count": null,
   "id": "91b0569a",
   "metadata": {},
   "outputs": [],
   "source": [
    "print(sfm_x[:10,:])"
   ]
  },
  {
   "cell_type": "code",
   "execution_count": null,
   "id": "4cdd79b8",
   "metadata": {},
   "outputs": [],
   "source": [
    "svo_x = svo_x[(svo_x[:, 0] < 1080) & (svo_x[:, 1] < 1920)]"
   ]
  },
  {
   "cell_type": "code",
   "execution_count": null,
   "id": "9859b15e",
   "metadata": {},
   "outputs": [],
   "source": [
    "sfm_x_.shape"
   ]
  },
  {
   "cell_type": "code",
   "execution_count": null,
   "id": "8ad38ede",
   "metadata": {},
   "outputs": [],
   "source": [
    "sfm_images_dict[13].name"
   ]
  },
  {
   "cell_type": "code",
   "execution_count": null,
   "id": "e605df5f",
   "metadata": {},
   "outputs": [],
   "source": []
  },
  {
   "cell_type": "code",
   "execution_count": null,
   "id": "43bc0a9e",
   "metadata": {},
   "outputs": [],
   "source": [
    "from hloc.utils.viz import plot_keypoints, save_plot\n",
    "from hloc.utils.io import get_keypoints\n",
    "import matplotlib.pyplot as plt\n",
    "import numpy as np\n",
    "import os\n",
    "\n",
    "left_image_name = sfm_images_dict[13].name\n",
    "left_image_path = os.path.join(images, Path(left_image_name))\n",
    "\n",
    "print(f\"left_image_path: {left_image_path}\")\n",
    "\n",
    "plot_images([read_image(left_image_path)], dpi=50, figsize=10.5)\n",
    "\n",
    "'''kps_list_ = [] \n",
    "for r in ref_trim_:\n",
    "    kps = get_keypoints(features_path_, r)\n",
    "    print(type(kps))\n",
    "    kps_list_.append(kps)\n",
    "'''\n",
    "\n",
    "plot_keypoints([sfm_x[:110000]], colors = \"red\",  ps = .1)\n",
    "\n",
    "current_path_ = os.getcwd()\n",
    "\n",
    "print(\"current_path: \", current_path_)\n",
    "\n",
    "print(type(current_path_))\n",
    "\n",
    "#final_path = current_path_ + \"/kps.png\"\n",
    "\n",
    "\n",
    "#save_plot(final_path)\n"
   ]
  },
  {
   "cell_type": "code",
   "execution_count": null,
   "id": "bc36b981",
   "metadata": {},
   "outputs": [],
   "source": [
    "svo_input_path = Path(\"svo_output/frame_20/pointcloud/pointcloud.ply\")\n",
    "svo_model = pycolmap.Reconstruction()\n",
    "svo_ply = svo_model.import_PLY(svo_input_path.as_posix())"
   ]
  },
  {
   "cell_type": "code",
   "execution_count": null,
   "id": "0140e03f",
   "metadata": {},
   "outputs": [],
   "source": [
    "svo_X = np.array([point.xyz for id, point in svo_model.points3D.items()])\n"
   ]
  },
  {
   "cell_type": "code",
   "execution_count": null,
   "id": "f80a7211",
   "metadata": {},
   "outputs": [],
   "source": [
    "svo_X.shape"
   ]
  },
  {
   "cell_type": "code",
   "execution_count": null,
   "id": "1d72fffb",
   "metadata": {},
   "outputs": [],
   "source": [
    "ones = np.ones((svo_X.shape[0], 1))\n",
    "svo_X = np.hstack((svo_X, ones)) #homogenizing svo_X"
   ]
  },
  {
   "cell_type": "code",
   "execution_count": null,
   "id": "2594f8e4",
   "metadata": {},
   "outputs": [],
   "source": [
    "svo_x = np.dot(left_P, svo_X.T).T\n",
    "svo_x_filtered = svo_x[svo_x[:, 2] >= 0]\n",
    "svo_x = svo_x_filtered[:, :2] / svo_x_filtered[:, 2:]"
   ]
  },
  {
   "cell_type": "code",
   "execution_count": null,
   "id": "01294308",
   "metadata": {},
   "outputs": [],
   "source": [
    "svo_x.shape"
   ]
  },
  {
   "cell_type": "code",
   "execution_count": null,
   "id": "76a6f924",
   "metadata": {},
   "outputs": [],
   "source": [
    "svo_x_ = svo_x[svo_x[:, 1] > 1920]"
   ]
  },
  {
   "cell_type": "code",
   "execution_count": null,
   "id": "76ae907f",
   "metadata": {},
   "outputs": [],
   "source": [
    "svo_x_.shape"
   ]
  },
  {
   "cell_type": "code",
   "execution_count": null,
   "id": "9e11d987",
   "metadata": {},
   "outputs": [],
   "source": [
    "import cv2\n",
    "test_img = cv2.imread(\"/home/skumar/benchmark_pixSFM/svo_output/frame_15/images/left_image.jpg\")"
   ]
  },
  {
   "cell_type": "code",
   "execution_count": null,
   "id": "64dd9e3f",
   "metadata": {},
   "outputs": [],
   "source": [
    "type(test_img)"
   ]
  },
  {
   "cell_type": "code",
   "execution_count": null,
   "id": "38f5d7f6",
   "metadata": {},
   "outputs": [],
   "source": [
    "test_img.shape"
   ]
  },
  {
   "cell_type": "code",
   "execution_count": null,
   "id": "3cebcb4e",
   "metadata": {},
   "outputs": [],
   "source": []
  }
 ],
 "metadata": {
  "kernelspec": {
   "display_name": "Python 3 (ipykernel)",
   "language": "python",
   "name": "python3"
  },
  "language_info": {
   "codemirror_mode": {
    "name": "ipython",
    "version": 3
   },
   "file_extension": ".py",
   "mimetype": "text/x-python",
   "name": "python",
   "nbconvert_exporter": "python",
   "pygments_lexer": "ipython3",
   "version": "3.8.10"
  }
 },
 "nbformat": 4,
 "nbformat_minor": 5
}
