{
 "cells": [
  {
   "cell_type": "code",
   "execution_count": 1,
   "id": "0dbf848d",
   "metadata": {},
   "outputs": [],
   "source": [
    "%load_ext autoreload\n",
    "%autoreload 2\n",
    "import tqdm, tqdm.notebook\n",
    "tqdm.tqdm = tqdm.notebook.tqdm  # notebook-friendly progress bars\n",
    "import os\n",
    "import time\n",
    "import sys\n",
    "from hloc import extract_features, match_features, reconstruction, pairs_from_exhaustive, visualization\n",
    "from hloc.visualization import plot_images, read_image\n",
    "from hloc.utils.viz_3d import init_figure, plot_points, plot_reconstruction, plot_camera_colmap\n",
    "from pixsfm.util.visualize import init_image, plot_points2D\n",
    "from pixsfm.refine_hloc import PixSfM\n",
    "from pixsfm import ostream_redirect\n",
    "from PIL import Image, ImageDraw\n",
    "import pycolmap\n",
    "from pathlib import Path\n",
    "#import visualize_model\n",
    "# redirect the C++ outputs to notebook cells\n",
    "cpp_out = ostream_redirect(stderr=True, stdout=True)\n",
    "cpp_out.__enter__()"
   ]
  },
  {
   "cell_type": "code",
   "execution_count": 2,
   "id": "725c28d9",
   "metadata": {},
   "outputs": [],
   "source": [
    "sys.path.insert(0, \"./autonomy-helpers\")"
   ]
  },
  {
   "cell_type": "code",
   "execution_count": 3,
   "id": "22519773",
   "metadata": {},
   "outputs": [],
   "source": [
    "import svo_to_pointcloud"
   ]
  },
  {
   "cell_type": "code",
   "execution_count": 4,
   "id": "7eef0484",
   "metadata": {},
   "outputs": [],
   "source": [
    "svo_file_path = \"/home/skumar/front_svo/front_2023-11-03-11-18-57.svo\""
   ]
  },
  {
   "cell_type": "code",
   "execution_count": 6,
   "id": "e6808013",
   "metadata": {},
   "outputs": [
    {
     "name": "stdout",
     "output_type": "stream",
     "text": [
      "Reading SVO file: /home/skumar/front_svo/front_2023-11-03-11-18-57.svo\n",
      "clear old output\n",
      "Doing 0\n",
      "Writing images\n",
      "Writing point cloud of resolution\n",
      "Translation: Tx: 0.0, Ty: 0.0, Tz 0.0, Timestamp: 1699035537613\n",
      "\n",
      "Orientation: Ox: -0.238, Oy: -0.006, Oz -0.025, Ow: 0.971\n",
      "\n",
      "Doing 1\n",
      "Writing images\n",
      "Writing point cloud of resolution\n",
      "Translation: Tx: -13.77, Ty: 6.479, Tz 21.277, Timestamp: 1699035537717\n",
      "\n",
      "Orientation: Ox: -0.238, Oy: -0.002, Oz -0.028, Ow: 0.971\n",
      "\n",
      "Doing 2\n",
      "Writing images\n",
      "Writing point cloud of resolution\n",
      "Translation: Tx: -18.091, Ty: 9.576, Tz 27.95, Timestamp: 1699035537780\n",
      "\n",
      "Orientation: Ox: -0.239, Oy: -0.0, Oz -0.031, Ow: 0.971\n",
      "\n",
      "Doing 3\n",
      "Writing images\n",
      "Writing point cloud of resolution\n",
      "Translation: Tx: -20.952, Ty: 11.891, Tz 29.12, Timestamp: 1699035537884\n",
      "\n",
      "Orientation: Ox: -0.238, Oy: 0.0, Oz -0.032, Ow: 0.971\n",
      "\n",
      "Doing 4\n",
      "Writing images\n",
      "Writing point cloud of resolution\n",
      "Translation: Tx: -18.701, Ty: 18.285, Tz 34.117, Timestamp: 1699035537981\n",
      "\n",
      "Orientation: Ox: -0.235, Oy: 0.001, Oz -0.028, Ow: 0.972\n",
      "\n",
      "Doing 5\n",
      "Writing images\n",
      "Writing point cloud of resolution\n",
      "Translation: Tx: -15.265, Ty: 24.268, Tz 41.135, Timestamp: 1699035538048\n",
      "\n",
      "Orientation: Ox: -0.233, Oy: 0.001, Oz -0.025, Ow: 0.972\n",
      "\n",
      "Doing 6\n",
      "Writing images\n",
      "Writing point cloud of resolution\n",
      "Translation: Tx: -13.997, Ty: 32.979, Tz 48.058, Timestamp: 1699035538148\n",
      "\n",
      "Orientation: Ox: -0.229, Oy: 0.003, Oz -0.022, Ow: 0.973\n",
      "\n",
      "Doing 7\n",
      "Writing images\n",
      "Writing point cloud of resolution\n",
      "Translation: Tx: -12.793, Ty: 40.879, Tz 124.248, Timestamp: 1699035538215\n",
      "\n",
      "Orientation: Ox: -0.229, Oy: 0.005, Oz -0.023, Ow: 0.973\n",
      "\n",
      "Doing 8\n",
      "Writing images\n",
      "Writing point cloud of resolution\n",
      "Translation: Tx: -22.792, Ty: 53.688, Tz 244.977, Timestamp: 1699035538315\n",
      "\n",
      "Orientation: Ox: -0.23, Oy: 0.011, Oz -0.029, Ow: 0.973\n",
      "\n",
      "Doing 9\n",
      "Writing images\n",
      "Writing point cloud of resolution\n",
      "Translation: Tx: -39.584, Ty: 59.146, Tz 278.398, Timestamp: 1699035538415\n",
      "\n",
      "Orientation: Ox: -0.232, Oy: 0.016, Oz -0.034, Ow: 0.972\n",
      "\n",
      "\n",
      "SVO end has been reached. Exiting now.\n"
     ]
    }
   ],
   "source": [
    "svo_to_pointcloud.main(svo_file_path)"
   ]
  },
  {
   "cell_type": "code",
   "execution_count": null,
   "id": "820b9089",
   "metadata": {},
   "outputs": [],
   "source": []
  },
  {
   "cell_type": "code",
   "execution_count": null,
   "id": "ef73a10d",
   "metadata": {},
   "outputs": [],
   "source": []
  }
 ],
 "metadata": {
  "kernelspec": {
   "display_name": "Python 3 (ipykernel)",
   "language": "python",
   "name": "python3"
  },
  "language_info": {
   "codemirror_mode": {
    "name": "ipython",
    "version": 3
   },
   "file_extension": ".py",
   "mimetype": "text/x-python",
   "name": "python",
   "nbconvert_exporter": "python",
   "pygments_lexer": "ipython3",
   "version": "3.8.10"
  }
 },
 "nbformat": 4,
 "nbformat_minor": 5
}
