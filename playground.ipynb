{
 "cells": [
  {
   "cell_type": "code",
   "execution_count": null,
   "id": "7ff3b605",
   "metadata": {},
   "outputs": [],
   "source": [
    "%load_ext autoreload\n",
    "%autoreload 2\n",
    "import tqdm, tqdm.notebook\n",
    "tqdm.tqdm = tqdm.notebook.tqdm  # notebook-friendly progress bars\n",
    "import os\n",
    "import time\n",
    "import sys\n",
    "from hloc import extract_features, match_features, reconstruction, pairs_from_exhaustive, visualization\n",
    "from hloc.visualization import plot_images, read_image\n",
    "from hloc.utils.viz_3d import init_figure, plot_points, plot_reconstruction, plot_camera_colmap\n",
    "from pixsfm.util.visualize import init_image, plot_points2D\n",
    "from pixsfm.refine_hloc import PixSfM\n",
    "from pixsfm import ostream_redirect\n",
    "from PIL import Image, ImageDraw\n",
    "import pycolmap\n",
    "from pathlib import Path\n",
    "#import visualize_model\n",
    "# redirect the C++ outputs to notebook cells\n",
    "cpp_out = ostream_redirect(stderr=True, stdout=True)\n",
    "cpp_out.__enter__()"
   ]
  },
  {
   "cell_type": "code",
   "execution_count": null,
   "id": "22519773",
   "metadata": {},
   "outputs": [],
   "source": [
    "sys.path.insert(0, \"./scripts/\")\n",
    "import svo_to_pointcloud"
   ]
  },
  {
   "cell_type": "code",
   "execution_count": null,
   "id": "7eef0484",
   "metadata": {},
   "outputs": [],
   "source": [
    "svo_file_path = \"/home/skumar/front_svo/front_2023-11-03-10-51-17.svo\"\n",
    "nb_frames = 40"
   ]
  },
  {
   "cell_type": "code",
   "execution_count": null,
   "id": "e6808013",
   "metadata": {},
   "outputs": [],
   "source": [
    "svo_to_pointcloud.main(svo_file_path, nb_frames)"
   ]
  },
  {
   "cell_type": "code",
   "execution_count": null,
   "id": "91e4bab8",
   "metadata": {},
   "outputs": [],
   "source": [
    "Print(\"svo pipeline "
   ]
  }
 ],
 "metadata": {
  "kernelspec": {
   "display_name": "Python 3 (ipykernel)",
   "language": "python",
   "name": "python3"
  },
  "language_info": {
   "codemirror_mode": {
    "name": "ipython",
    "version": 3
   },
   "file_extension": ".py",
   "mimetype": "text/x-python",
   "name": "python",
   "nbconvert_exporter": "python",
   "pygments_lexer": "ipython3",
   "version": "3.8.10"
  }
 },
 "nbformat": 4,
 "nbformat_minor": 5
}
